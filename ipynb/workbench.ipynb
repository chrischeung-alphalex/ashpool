{
 "cells": [
  {
   "cell_type": "code",
   "execution_count": 1,
   "metadata": {
    "ExecuteTime": {
     "end_time": "2017-12-26T14:18:38.479557Z",
     "start_time": "2017-12-26T14:18:37.633324Z"
    }
   },
   "outputs": [],
   "source": [
    "from __future__ import (absolute_import, division, print_function, unicode_literals)\n",
    "from builtins import (\n",
    "    ascii, \n",
    "    bytes, \n",
    "    chr, \n",
    "    dict, \n",
    "    filter, \n",
    "    hex, \n",
    "    input,\n",
    "    # int, \n",
    "    map, \n",
    "    next, \n",
    "    oct, \n",
    "    open, \n",
    "    pow, \n",
    "    range, \n",
    "    round,\n",
    "    str, \n",
    "    super, \n",
    "    zip,\n",
    "    )\n",
    "\n",
    "import pandas as pd\n",
    "import numpy as np\n",
    "\n",
    "from hypothesis import example, given\n",
    "from hypothesis.extra.pandas import column, data_frames, indexes, series\n",
    "from hypothesis.strategies import datetimes, lists, sampled_from, text"
   ]
  },
  {
   "cell_type": "code",
   "execution_count": 18,
   "metadata": {
    "ExecuteTime": {
     "end_time": "2017-12-26T14:27:36.872034Z",
     "start_time": "2017-12-26T14:27:36.831400Z"
    }
   },
   "outputs": [
    {
     "data": {
      "text/plain": [
       "0    ﹞\n",
       "1    赦\n",
       "2    ﹞\n",
       "3    ﹞\n",
       "4    ﹞\n",
       "5    \u0010\n",
       "6    ﹞\n",
       "dtype: object"
      ]
     },
     "execution_count": 18,
     "metadata": {},
     "output_type": "execute_result"
    }
   ],
   "source": [
    "s = series(dtype=np.unicode_).example()\n",
    "s"
   ]
  },
  {
   "cell_type": "code",
   "execution_count": 19,
   "metadata": {
    "ExecuteTime": {
     "end_time": "2017-12-26T14:27:39.030166Z",
     "start_time": "2017-12-26T14:27:39.022443Z"
    }
   },
   "outputs": [
    {
     "data": {
      "text/plain": [
       "dtype('O')"
      ]
     },
     "execution_count": 19,
     "metadata": {},
     "output_type": "execute_result"
    }
   ],
   "source": [
    "s.dtype"
   ]
  },
  {
   "cell_type": "code",
   "execution_count": 20,
   "metadata": {
    "ExecuteTime": {
     "end_time": "2017-12-26T14:27:39.719446Z",
     "start_time": "2017-12-26T14:27:39.711257Z"
    }
   },
   "outputs": [
    {
     "data": {
      "text/plain": [
       "future.types.newstr.newstr"
      ]
     },
     "execution_count": 20,
     "metadata": {},
     "output_type": "execute_result"
    }
   ],
   "source": [
    "str"
   ]
  },
  {
   "cell_type": "code",
   "execution_count": null,
   "metadata": {},
   "outputs": [],
   "source": []
  }
 ],
 "metadata": {
  "hide_input": false,
  "kernelspec": {
   "display_name": "Python 2",
   "language": "python",
   "name": "python2"
  },
  "language_info": {
   "codemirror_mode": {
    "name": "ipython",
    "version": 2
   },
   "file_extension": ".py",
   "mimetype": "text/x-python",
   "name": "python",
   "nbconvert_exporter": "python",
   "pygments_lexer": "ipython2",
   "version": "2.7.9"
  }
 },
 "nbformat": 4,
 "nbformat_minor": 2
}
